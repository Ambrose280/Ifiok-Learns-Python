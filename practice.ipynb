{
 "cells": [
  {
   "cell_type": "code",
   "execution_count": 3,
   "metadata": {},
   "outputs": [],
   "source": [
    "# Bank App...\n",
    "# Functions:\n",
    "# Create Account \n",
    "# Deposit\n",
    "# Delete Account\n",
    "# Withdraw. "
   ]
  },
  {
   "cell_type": "code",
   "execution_count": 50,
   "metadata": {},
   "outputs": [],
   "source": [
    "# AGE 18 AUTHENTICATION\n",
    "def agestuff():\n",
    "    try:\n",
    "        import datetime\n",
    "        Data = input(\"Enter Your Date of Birth in the format: DD-MMM-YYY. Example: 11-SEPT-2001\") \n",
    "        mydate = Data.replace(\"-\", \"\")\n",
    "        today = datetime.date.today()\n",
    "        from datetime import datetime\n",
    "        datetime_str = mydate\n",
    "        datetime_obj = datetime.strptime(mydate, \"%d%b%Y\")\n",
    "        date = datetime_obj.date()\n",
    "        print(date)\n",
    "        print(today)\n",
    "        auth_18_years = today - date\n",
    "        print(auth_18_years)\n",
    "        if auth_18_years.days >= 7780:\n",
    "           print(\"Age Confirmed, you may proceed\")\n",
    "        else:\n",
    "           print(\"Sorry, you must be up to the age of 18 to create an account with The Bank of Ifiok\")\n",
    "    except ValueError:\n",
    "        print(\"Invalid input, remember the format : DD-MMM-YYY. Example: 11-SEPT-2001\")"
   ]
  },
  {
   "cell_type": "code",
   "execution_count": 76,
   "metadata": {},
   "outputs": [],
   "source": [
    "# ACCOUNT NAME VALIDATOR\n",
    "def only_alpha_validator(name):\n",
    "    fidel_chars_str = \"abcdefghijklmnopqrstuvwxyz\"\n",
    "    for character in name:\n",
    "        if character in fidel_chars_str == False:\n",
    "            print(\"Your account name includes invalid characters, which is not \\nallowed for Private Acoounts, only Business Accounts\")\n",
    "        else:\n",
    "            pass"
   ]
  },
  {
   "cell_type": "code",
   "execution_count": 75,
   "metadata": {},
   "outputs": [],
   "source": [
    "# ACCOUNT CREATOR\n",
    "def createaccount():\n",
    "    print(\"Welcome to The Bank of Ifiok, The Bank of The Free\")\n",
    "    firstname = input(\"Enter your First Name:\")\n",
    "    midname = input(\"Enter your Middle Name\")\n",
    "    lastname = input(\"Enter your Surname:\")\n",
    "    fullname = firstname + \" \" + midname + \" \" + lastname\n",
    "    only_alpha_validator(fullname)"
   ]
  },
  {
   "cell_type": "code",
   "execution_count": 51,
   "metadata": {},
   "outputs": [],
   "source": [
    "def createpin():\n",
    "    pin = input(\"Enter a 4-digit-PIN\")\n",
    "    if len(pin) > 4:\n",
    "        return f\"Your PIN must be 4 digits long\"\n",
    "    else:\n",
    "        pass\n",
    "    for integer in pin:\n",
    "        fidel_ints = \"1234567890\"\n",
    "        if integer in pin == False:\n",
    "            print(\"You Entered an Invalid Character!! Only whole numbers allowed!!!\")\n",
    "        else:\n",
    "            pass"
   ]
  },
  {
   "cell_type": "code",
   "execution_count": 80,
   "metadata": {},
   "outputs": [],
   "source": [
    "l = \"iFIOK Ambrose\""
   ]
  },
  {
   "cell_type": "code",
   "execution_count": 81,
   "metadata": {},
   "outputs": [],
   "source": [
    "with open(\"accountsdb.txt\", \"w+\") as acdb:\n",
    "    acdb.write(l)"
   ]
  },
  {
   "cell_type": "code",
   "execution_count": 17,
   "metadata": {},
   "outputs": [],
   "source": [
    "import random\n",
    "bvn = random.randint(0, 12345678900)\n",
    "accntnumber = random.randint(0, 99999999999)\n",
    "def dateauth():\n",
    "    import datetime\n",
    "    Data = input(\"Enter Your Date of Birth in the format: DD-MMM-YYY. Example: 11-SEP-2001\") \n",
    "    mydate = Data.replace(\"-\", \"\")\n",
    "    today = datetime.date.today()\n",
    "    from datetime import datetime\n",
    "    datetime_str = mydate\n",
    "    datetime_obj = datetime.strptime(mydate, \"%d%b%Y\")\n",
    "    date = datetime_obj.date()\n",
    "    print(date)\n",
    "    print(today)\n",
    "    auth_18_years = today - date\n",
    "    if auth_18_years.days >= 7780:\n",
    "        print(\"Age Confirmed, you may proceed\")\n",
    "    else:\n",
    "        print(\"Sorry, you must be up to the age of 18 to create an account with The Bank of Ifiok\")\n",
    "\n",
    "def only_alpha_validator(name):\n",
    "    fidel_chars_str = \"abcdefghijklmnopqrstuvwxyz\"\n",
    "    for character in name:\n",
    "        if character in fidel_chars_str == False:\n",
    "            print(\"Your account name includes invalid characters, which is not \\nallowed for Private Acoounts, only Business Accounts\")\n",
    "            break\n",
    "        else:\n",
    "            pass\n",
    "def createaccount():\n",
    "    print(\"Welcome to The Bank of Ifiok, The Bank of The Free\")\n",
    "    dateauth()\n",
    "    firstname = input(\"Enter your First Name:\")\n",
    "    midname = input(\"Enter your Middle Name\")\n",
    "    lastname = input(\"Enter your Surname:\")\n",
    "    fullname = firstname + \" \" + midname + \" \" + lastname\n",
    "    only_alpha_validator(fullname)\n",
    "\n",
    "    pin = input(\"Enter a 4-digit-PIN\")\n",
    "    if len(pin) > 4:\n",
    "        return f\"Your PIN must be 4 digits long\"\n",
    "    else:\n",
    "        pass\n",
    "    for integer in pin:\n",
    "        fidel_ints = \"1234567890\"\n",
    "        if integer in pin == False:\n",
    "            print(\"You Entered an Invalid Character!! Only whole numbers allowed!!!\")\n",
    "        else:\n",
    "            pass\n",
    "    sex = input(\"Enter your sex, Male or Female. Format: F or M\")\n",
    "    if sex.upper() == \"M\":\n",
    "        sex = \"M\"\n",
    "    elif sex.upper() == \"F\":\n",
    "        sex = \"F\"\n",
    "    account_details = \" Account Number:\" + str(accntnumber) + \" | BVN:\" + str(bvn) + \" | PIN:\" + pin + \" | \" + sex  + \" | \" + fullname\n",
    "    with open(\"accountsdb.txt\", \"a+\") as acdb:\n",
    "        acdb.write(\"\\n\" + account_details)\n",
    "\n"
   ]
  },
  {
   "cell_type": "code",
   "execution_count": 94,
   "metadata": {},
   "outputs": [
    {
     "name": "stdout",
     "output_type": "stream",
     "text": [
      "Welcome to The Bank of Ifiok, The Bank of The Free\n",
      "1990-12-19\n",
      "2022-11-30\n",
      "Age Confirmed, you may proceed\n"
     ]
    }
   ],
   "source": [
    "createaccount()"
   ]
  },
  {
   "cell_type": "code",
   "execution_count": 28,
   "metadata": {},
   "outputs": [],
   "source": [
    "with open(\"accountsdb.txt\", \"a+\") as acdb:\n",
    "    v = acdb.write(\"\\n\")"
   ]
  },
  {
   "cell_type": "code",
   "execution_count": 31,
   "metadata": {},
   "outputs": [],
   "source": [
    "with open('accounts.txt', 'w+') as fp:\n",
    "    fp.readlines()"
   ]
  },
  {
   "cell_type": "code",
   "execution_count": 36,
   "metadata": {},
   "outputs": [
    {
     "ename": "ValueError",
     "evalue": "I/O operation on closed file.",
     "output_type": "error",
     "traceback": [
      "\u001b[1;31m---------------------------------------------------------------------------\u001b[0m",
      "\u001b[1;31mValueError\u001b[0m                                Traceback (most recent call last)",
      "Cell \u001b[1;32mIn[36], line 6\u001b[0m\n\u001b[0;32m      4\u001b[0m   \u001b[39mprint\u001b[39m(\u001b[39m\"\u001b[39m\u001b[39mAccount Number has to be 11 digits long\u001b[39m\u001b[39m\"\u001b[39m)\n\u001b[0;32m      5\u001b[0m only_alpha_validator(a_numbr)\n\u001b[1;32m----> 6\u001b[0m \u001b[39mfor\u001b[39;00m line \u001b[39min\u001b[39;00m file:\n\u001b[0;32m      7\u001b[0m   current_line \u001b[39m=\u001b[39m \u001b[39mstr\u001b[39m(line)\n\u001b[0;32m      8\u001b[0m   user_name \u001b[39m=\u001b[39m current_line[\u001b[39m64\u001b[39m:]\n",
      "\u001b[1;31mValueError\u001b[0m: I/O operation on closed file."
     ]
    }
   ],
   "source": [
    "with open('accounts.txt', 'r') as file:\n",
    " a_numbr = input(\"Enter Your Account Number:\")\n",
    "if len(a_numbr) > 11:\n",
    "  print(\"Account Number has to be 11 digits long\")\n",
    "only_alpha_validator(a_numbr)\n",
    "for line in file:\n",
    "  current_line = str(line)\n",
    "  user_name = current_line[64:]\n",
    "  pin_location = current_line[50:54]\n",
    "  fidel_line = (current_line[16:26])\n",
    "  if a_numbr == fidel_line:\n",
    "    pswd = input(\"Enter PIN\")\n",
    "    only_alpha_validator(pswd)\n",
    "    if pswd == pin_location:\n",
    "      print(\"Welcome back, \" + user_name)\n",
    "    else:\n",
    "      print(\"Invalid PIN Entered\")\n",
    "  "
   ]
  },
  {
   "cell_type": "code",
   "execution_count": 14,
   "metadata": {},
   "outputs": [
    {
     "data": {
      "text/plain": [
       "'Pope Franscis Ebong'"
      ]
     },
     "execution_count": 14,
     "metadata": {},
     "output_type": "execute_result"
    }
   ],
   "source": []
  },
  {
   "cell_type": "code",
   "execution_count": 6,
   "metadata": {},
   "outputs": [
    {
     "data": {
      "text/plain": [
       "False"
      ]
     },
     "execution_count": 6,
     "metadata": {},
     "output_type": "execute_result"
    }
   ],
   "source": [
    "pswd == t"
   ]
  },
  {
   "cell_type": "code",
   "execution_count": 96,
   "metadata": {},
   "outputs": [
    {
     "name": "stdout",
     "output_type": "stream",
     "text": [
      "\n",
      "5697\n",
      "3460\n",
      "5467\n",
      "8284\n",
      "8119\n",
      "3487\n"
     ]
    }
   ],
   "source": [
    "with open('accountsdb.txt', 'r') as fp:\n",
    " p = \"8133296603\"\n",
    " for line in fp:\n",
    "   current_line = str(line)\n",
    "   print(current_line[50:54])\n"
   ]
  }
 ],
 "metadata": {
  "kernelspec": {
   "display_name": "Python 3.11.0 64-bit",
   "language": "python",
   "name": "python3"
  },
  "language_info": {
   "codemirror_mode": {
    "name": "ipython",
    "version": 3
   },
   "file_extension": ".py",
   "mimetype": "text/x-python",
   "name": "python",
   "nbconvert_exporter": "python",
   "pygments_lexer": "ipython3",
   "version": "3.11.0"
  },
  "orig_nbformat": 4,
  "vscode": {
   "interpreter": {
    "hash": "2d905d091f41d9e388e9af75ae79510e9ed55bd86dd3c7a0354be58a5a2f4b0e"
   }
  }
 },
 "nbformat": 4,
 "nbformat_minor": 2
}
